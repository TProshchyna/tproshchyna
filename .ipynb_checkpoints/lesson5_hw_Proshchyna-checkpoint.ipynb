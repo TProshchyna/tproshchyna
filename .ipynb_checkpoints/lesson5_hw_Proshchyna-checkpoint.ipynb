{
 "cells": [
  {
   "cell_type": "code",
   "execution_count": 1,
   "metadata": {},
   "outputs": [
    {
     "name": "stdout",
     "output_type": "stream",
     "text": [
      "[964, 979, 790, 712, 369, 28, 159, 493, 249, 169]\n",
      "The max number in the list [964, 979, 790, 712, 369, 28, 159, 493, 249, 169] is 979\n"
     ]
    }
   ],
   "source": [
    "#Task 1\n",
    "#The greatest number\n",
    "\n",
    "import random\n",
    "\n",
    "count=0\n",
    "list=[]\n",
    "while count<10:\n",
    "    list.append(random.randint(1,1000))\n",
    "    count+=1\n",
    "print(list)\n",
    "max_value=max(list)\n",
    "print(f'The max number in the list {list} is {max_value}')"
   ]
  },
  {
   "cell_type": "code",
   "execution_count": 4,
   "metadata": {},
   "outputs": [
    {
     "name": "stdout",
     "output_type": "stream",
     "text": [
      "[7, 5, 7, 2, 7, 8, 3, 5, 6, 7]\n",
      "[2, 1, 4, 10, 2, 5, 3, 5, 9, 3]\n"
     ]
    },
    {
     "ename": "TypeError",
     "evalue": "'list' object is not callable",
     "output_type": "error",
     "traceback": [
      "\u001b[0;31m---------------------------------------------------------------------------\u001b[0m",
      "\u001b[0;31mTypeError\u001b[0m                                 Traceback (most recent call last)",
      "\u001b[0;32m<ipython-input-4-45b07021b8e5>\u001b[0m in \u001b[0;36m<module>\u001b[0;34m\u001b[0m\n\u001b[1;32m     18\u001b[0m \u001b[0mset_1\u001b[0m\u001b[0;34m=\u001b[0m\u001b[0mset\u001b[0m\u001b[0;34m(\u001b[0m\u001b[0mlist_1\u001b[0m\u001b[0;34m)\u001b[0m\u001b[0;34m\u001b[0m\u001b[0;34m\u001b[0m\u001b[0m\n\u001b[1;32m     19\u001b[0m \u001b[0mset_2\u001b[0m\u001b[0;34m=\u001b[0m\u001b[0mset\u001b[0m\u001b[0;34m(\u001b[0m\u001b[0mlist_2\u001b[0m\u001b[0;34m)\u001b[0m\u001b[0;34m\u001b[0m\u001b[0;34m\u001b[0m\u001b[0m\n\u001b[0;32m---> 20\u001b[0;31m \u001b[0mlist_3\u001b[0m\u001b[0;34m=\u001b[0m\u001b[0mlist\u001b[0m\u001b[0;34m(\u001b[0m\u001b[0mset_1\u001b[0m\u001b[0;34m&\u001b[0m\u001b[0mset_2\u001b[0m\u001b[0;34m)\u001b[0m\u001b[0;34m\u001b[0m\u001b[0;34m\u001b[0m\u001b[0m\n\u001b[0m\u001b[1;32m     21\u001b[0m \u001b[0;34m\u001b[0m\u001b[0m\n\u001b[1;32m     22\u001b[0m \u001b[0mprint\u001b[0m\u001b[0;34m(\u001b[0m\u001b[0;34mf'The common list of element between list_1 and list_2 is {list_3}'\u001b[0m\u001b[0;34m)\u001b[0m\u001b[0;34m\u001b[0m\u001b[0;34m\u001b[0m\u001b[0m\n",
      "\u001b[0;31mTypeError\u001b[0m: 'list' object is not callable"
     ]
    }
   ],
   "source": [
    "#Task 2\n",
    "#Exclusive common numbers\n",
    "count_1=0\n",
    "list_1=[]\n",
    "while count_1<10:\n",
    "    list_1.append(random.randint(1,10))\n",
    "    count_1+=1\n",
    "\n",
    "count_2=0\n",
    "list_2=[]\n",
    "while count_2<10:\n",
    "    list_2.append(random.randint(1,10))\n",
    "    count_2+=1\n",
    "\n",
    "print(list_1)\n",
    "print(list_2)\n",
    "\n",
    "set_1=set(list_1)\n",
    "set_2=set(list_2)\n",
    "list_3=list(set_1&set_2)\n",
    "\n",
    "print(f'The common list of element between list_1 and list_2 is {list_3}')"
   ]
  },
  {
   "cell_type": "code",
   "execution_count": null,
   "metadata": {},
   "outputs": [],
   "source": []
  },
  {
   "cell_type": "code",
   "execution_count": null,
   "metadata": {},
   "outputs": [],
   "source": []
  },
  {
   "cell_type": "code",
   "execution_count": null,
   "metadata": {},
   "outputs": [],
   "source": []
  }
 ],
 "metadata": {
  "kernelspec": {
   "display_name": "Python 3",
   "language": "python",
   "name": "python3"
  },
  "language_info": {
   "codemirror_mode": {
    "name": "ipython",
    "version": 3
   },
   "file_extension": ".py",
   "mimetype": "text/x-python",
   "name": "python",
   "nbconvert_exporter": "python",
   "pygments_lexer": "ipython3",
   "version": "3.8.5"
  }
 },
 "nbformat": 4,
 "nbformat_minor": 1
}
