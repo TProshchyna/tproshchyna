{
 "cells": [
  {
   "cell_type": "markdown",
   "metadata": {
    "collapsed": true
   },
   "source": [
    "# Task 1"
   ]
  },
  {
   "cell_type": "code",
   "execution_count": 4,
   "metadata": {
    "scrolled": true
   },
   "outputs": [
    {
     "name": "stdout",
     "output_type": "stream",
     "text": [
      "Please, input string:helloworld\n",
      "held\n"
     ]
    }
   ],
   "source": [
    "string=input('Please, input string: ')\n",
    "\n",
    "\n",
    "if len(string)<2:\n",
    "    print('')\n",
    "else:\n",
    "    first_2_letters=string[:2]\n",
    "    last_2_letters=string[-2:]\n",
    "    print(first_2_letters+last_2_letters)"
   ]
  },
  {
   "cell_type": "markdown",
   "metadata": {},
   "source": [
    "# Task 2"
   ]
  },
  {
   "cell_type": "code",
   "execution_count": 31,
   "metadata": {},
   "outputs": [
    {
     "name": "stdout",
     "output_type": "stream",
     "text": [
      "Please, enter a phone number: 7890678956\n",
      "7890678956 is a valid phone number\n"
     ]
    }
   ],
   "source": [
    "while True:\n",
    "    phone_number=input('Please, enter a phone number: ')\n",
    "    if len(phone_number)==10 and phone_number.isdigit():\n",
    "        print(f'{phone_number} is a valid phone number')\n",
    "        break\n",
    "    else: \n",
    "        print('Phone number is unvalid')\n",
    "        continue"
   ]
  },
  {
   "cell_type": "markdown",
   "metadata": {},
   "source": [
    "# Task 3"
   ]
  },
  {
   "cell_type": "code",
   "execution_count": 2,
   "metadata": {},
   "outputs": [
    {
     "name": "stdout",
     "output_type": "stream",
     "text": [
      "What is my name?: Tania\n",
      "This is a wrong answer\n",
      "What is my name?: Tetiana\n",
      "True\n"
     ]
    }
   ],
   "source": [
    "my_name='tetiana'\n",
    "\n",
    "while True:\n",
    "    name=input('What is my name?: ')\n",
    "    if name.lower()==my_name:\n",
    "        print(True)\n",
    "        break\n",
    "    else:\n",
    "        print('This is a wrong answer')\n",
    "        continue"
   ]
  }
 ],
 "metadata": {
  "kernelspec": {
   "display_name": "Python 3",
   "language": "python",
   "name": "python3"
  },
  "language_info": {
   "codemirror_mode": {
    "name": "ipython",
    "version": 3
   },
   "file_extension": ".py",
   "mimetype": "text/x-python",
   "name": "python",
   "nbconvert_exporter": "python",
   "pygments_lexer": "ipython3",
   "version": "3.8.5"
  }
 },
 "nbformat": 4,
 "nbformat_minor": 1
}